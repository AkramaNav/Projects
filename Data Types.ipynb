{
 "cells": [
  {
   "cell_type": "markdown",
   "id": "91f17a6c-891d-4d87-9a28-7215bf688bdb",
   "metadata": {},
   "source": [
    "# Data Types"
   ]
  },
  {
   "cell_type": "code",
   "execution_count": 22,
   "id": "ce429e3a-2870-47cd-88e5-59428e954aa8",
   "metadata": {},
   "outputs": [
    {
     "data": {
      "text/plain": [
       "int"
      ]
     },
     "execution_count": 22,
     "metadata": {},
     "output_type": "execute_result"
    }
   ],
   "source": [
    "type(-12 + 100)"
   ]
  },
  {
   "cell_type": "code",
   "execution_count": 24,
   "id": "a435e621-a97e-44fa-a03e-fe530a6c07c3",
   "metadata": {},
   "outputs": [
    {
     "data": {
      "text/plain": [
       "float"
      ]
     },
     "execution_count": 24,
     "metadata": {},
     "output_type": "execute_result"
    }
   ],
   "source": [
    "type(12 + 10.25)"
   ]
  },
  {
   "cell_type": "code",
   "execution_count": 26,
   "id": "2e361673-9622-4048-b41a-27bde4615d47",
   "metadata": {},
   "outputs": [
    {
     "data": {
      "text/plain": [
       "complex"
      ]
     },
     "execution_count": 26,
     "metadata": {},
     "output_type": "execute_result"
    }
   ],
   "source": [
    "type(12 + 3j)"
   ]
  },
  {
   "cell_type": "code",
   "execution_count": 34,
   "id": "c3a150f8-ddb3-496e-b153-5654a3be4d86",
   "metadata": {},
   "outputs": [
    {
     "data": {
      "text/plain": [
       "bool"
      ]
     },
     "execution_count": 34,
     "metadata": {},
     "output_type": "execute_result"
    }
   ],
   "source": [
    "#Boolean\n",
    "\n",
    "type(False)"
   ]
  },
  {
   "cell_type": "code",
   "execution_count": 36,
   "id": "e2844175-f1aa-4067-936f-5576a7c9bd65",
   "metadata": {},
   "outputs": [
    {
     "data": {
      "text/plain": [
       "False"
      ]
     },
     "execution_count": 36,
     "metadata": {},
     "output_type": "execute_result"
    }
   ],
   "source": [
    "1 > 5"
   ]
  },
  {
   "cell_type": "code",
   "execution_count": 39,
   "id": "111cfa9d-1baa-433a-8cc0-e2bbe4eed363",
   "metadata": {},
   "outputs": [
    {
     "data": {
      "text/plain": [
       "True"
      ]
     },
     "execution_count": 39,
     "metadata": {},
     "output_type": "execute_result"
    }
   ],
   "source": [
    "1 < 5 "
   ]
  },
  {
   "cell_type": "code",
   "execution_count": 41,
   "id": "cae8c539-af95-4604-ac8c-a3e017336ce0",
   "metadata": {},
   "outputs": [
    {
     "data": {
      "text/plain": [
       "'Single Quote'"
      ]
     },
     "execution_count": 41,
     "metadata": {},
     "output_type": "execute_result"
    }
   ],
   "source": [
    "# Strings\n",
    "'Single Quote'"
   ]
  },
  {
   "cell_type": "code",
   "execution_count": 43,
   "id": "837ba943-f2a8-4052-87ee-ba7de9448758",
   "metadata": {},
   "outputs": [
    {
     "data": {
      "text/plain": [
       "'Double Quote'"
      ]
     },
     "execution_count": 43,
     "metadata": {},
     "output_type": "execute_result"
    }
   ],
   "source": [
    "\"Double Quote\""
   ]
  },
  {
   "cell_type": "code",
   "execution_count": 53,
   "id": "4649556b-3797-40a2-8f16-15e36eedb2d0",
   "metadata": {},
   "outputs": [],
   "source": [
    "multiline = \"\"\"\n",
    "I won the league tourney.\n",
    "Even though my team was bad.\n",
    "I am the best on my team.\n",
    "I love winning.\n",
    "\"\"\""
   ]
  },
  {
   "cell_type": "code",
   "execution_count": 55,
   "id": "8ea567db-2518-4d2c-ae0b-c3b1accfce2a",
   "metadata": {},
   "outputs": [
    {
     "name": "stdout",
     "output_type": "stream",
     "text": [
      "\n",
      "I won the league tourney.\n",
      "Even though my team was bad.\n",
      "I am the best on my team.\n",
      "I love winning.\n",
      "\n"
     ]
    }
   ],
   "source": [
    "print (multiline)"
   ]
  },
  {
   "cell_type": "code",
   "execution_count": 66,
   "id": "396ccc70-9e10-4008-afab-f82137476d88",
   "metadata": {},
   "outputs": [],
   "source": [
    "a = 'Hello World!'"
   ]
  },
  {
   "cell_type": "code",
   "execution_count": 76,
   "id": "05b16614-724a-43d3-9b92-7a94501dea61",
   "metadata": {},
   "outputs": [
    {
     "name": "stdout",
     "output_type": "stream",
     "text": [
      "o\n"
     ]
    }
   ],
   "source": [
    "print(a[-5])"
   ]
  },
  {
   "cell_type": "code",
   "execution_count": 78,
   "id": "85affb80-bd17-4720-a10c-0ce43e2c5159",
   "metadata": {},
   "outputs": [
    {
     "data": {
      "text/plain": [
       "'Hello World!Hello World!Hello World!'"
      ]
     },
     "execution_count": 78,
     "metadata": {},
     "output_type": "execute_result"
    }
   ],
   "source": [
    "a*3"
   ]
  },
  {
   "cell_type": "code",
   "execution_count": 82,
   "id": "9f9cbc2e-bbee-40ca-b7e4-230749bda632",
   "metadata": {},
   "outputs": [
    {
     "data": {
      "text/plain": [
       "'Hello World!Hello World!'"
      ]
     },
     "execution_count": 82,
     "metadata": {},
     "output_type": "execute_result"
    }
   ],
   "source": [
    "a + a"
   ]
  },
  {
   "cell_type": "code",
   "execution_count": 95,
   "id": "591046e8-f82b-42d1-b6f4-293979c5f18e",
   "metadata": {},
   "outputs": [
    {
     "data": {
      "text/plain": [
       "[1, 2, 3]"
      ]
     },
     "execution_count": 95,
     "metadata": {},
     "output_type": "execute_result"
    }
   ],
   "source": [
    "# List\n",
    "[1,2,3]"
   ]
  },
  {
   "cell_type": "code",
   "execution_count": 97,
   "id": "15bc1dda-4400-48f1-8fe7-77d40cfc2c3f",
   "metadata": {},
   "outputs": [
    {
     "data": {
      "text/plain": [
       "['Cookie Dough', 'Strawberry', 'Chocolate']"
      ]
     },
     "execution_count": 97,
     "metadata": {},
     "output_type": "execute_result"
    }
   ],
   "source": [
    "['Cookie Dough', 'Strawberry', 'Chocolate']"
   ]
  },
  {
   "cell_type": "code",
   "execution_count": 99,
   "id": "0bfdddaa-6ee3-49c1-91a7-0c0cdce24416",
   "metadata": {},
   "outputs": [
    {
     "data": {
      "text/plain": [
       "['Vanilla', 3, ['Scoops', 'Spoon'], True]"
      ]
     },
     "execution_count": 99,
     "metadata": {},
     "output_type": "execute_result"
    }
   ],
   "source": [
    "['Vanilla', 3, ['Scoops','Spoon'], True]"
   ]
  },
  {
   "cell_type": "code",
   "execution_count": 103,
   "id": "f5e039c3-c051-4ebc-b2dc-0995af3c467c",
   "metadata": {},
   "outputs": [],
   "source": [
    "ice_cream = ['Cookie Dough', 'Strawberry', 'Chocolate']\n",
    "\n",
    "ice_cream.append('Salted Caramel')"
   ]
  },
  {
   "cell_type": "code",
   "execution_count": 105,
   "id": "65641336-a8a3-4f5e-9a0c-5a95e29bca4d",
   "metadata": {},
   "outputs": [
    {
     "name": "stdout",
     "output_type": "stream",
     "text": [
      "['Cookie Dough', 'Strawberry', 'Chocolate', 'Salted Caramel']\n"
     ]
    }
   ],
   "source": [
    "print(ice_cream)"
   ]
  },
  {
   "cell_type": "code",
   "execution_count": 109,
   "id": "61a73d61-7c9c-4935-ab1a-4478b4440470",
   "metadata": {},
   "outputs": [
    {
     "data": {
      "text/plain": [
       "['Buttermilk', 'Strawberry', 'Chocolate', 'Salted Caramel']"
      ]
     },
     "execution_count": 109,
     "metadata": {},
     "output_type": "execute_result"
    }
   ],
   "source": [
    "ice_cream[0] = 'Buttermilk'\n",
    "ice_cream"
   ]
  },
  {
   "cell_type": "code",
   "execution_count": 111,
   "id": "63022f8e-d48b-4ae9-a99c-64cab2ba94a2",
   "metadata": {},
   "outputs": [],
   "source": [
    "nest_list = ['Vanilla', 3, ['Scoops','Spoon'], True]"
   ]
  },
  {
   "cell_type": "code",
   "execution_count": 117,
   "id": "75c31c46-c0be-4d92-8203-4bfe9c71dd0f",
   "metadata": {},
   "outputs": [
    {
     "data": {
      "text/plain": [
       "'Spoon'"
      ]
     },
     "execution_count": 117,
     "metadata": {},
     "output_type": "execute_result"
    }
   ],
   "source": [
    "nest_list[2][1]"
   ]
  },
  {
   "cell_type": "code",
   "execution_count": null,
   "id": "b508d0ee-4608-4ac6-8467-804ef866582d",
   "metadata": {},
   "outputs": [],
   "source": [
    "#Tupil"
   ]
  },
  {
   "cell_type": "code",
   "execution_count": 127,
   "id": "93b68ed1-a8ba-4dff-afce-438c3b7b4a2b",
   "metadata": {},
   "outputs": [],
   "source": [
    "tuple_scoops = (1,2,3,2,1)"
   ]
  },
  {
   "cell_type": "code",
   "execution_count": 131,
   "id": "42e94a87-14aa-40de-97d9-b47c996e0109",
   "metadata": {},
   "outputs": [
    {
     "data": {
      "text/plain": [
       "tuple"
      ]
     },
     "execution_count": 131,
     "metadata": {},
     "output_type": "execute_result"
    }
   ],
   "source": [
    "type (tuple_scoops)"
   ]
  },
  {
   "cell_type": "code",
   "execution_count": 133,
   "id": "c3c3b74b-d8fe-4cce-8474-095a9ae31ba6",
   "metadata": {},
   "outputs": [
    {
     "data": {
      "text/plain": [
       "1"
      ]
     },
     "execution_count": 133,
     "metadata": {},
     "output_type": "execute_result"
    }
   ],
   "source": [
    "tuple_scoops[0]"
   ]
  },
  {
   "cell_type": "code",
   "execution_count": 144,
   "id": "4026ae45-ff9a-4ac7-bc63-84bed2b586b8",
   "metadata": {},
   "outputs": [],
   "source": [
    "# Sets\n",
    "\n",
    "daily_pints = {1,2,3}"
   ]
  },
  {
   "cell_type": "code",
   "execution_count": 148,
   "id": "23929690-5bcf-4cba-a0fd-81437ffc6c46",
   "metadata": {},
   "outputs": [
    {
     "data": {
      "text/plain": [
       "set"
      ]
     },
     "execution_count": 148,
     "metadata": {},
     "output_type": "execute_result"
    }
   ],
   "source": [
    "type (daily_pints)"
   ]
  },
  {
   "cell_type": "code",
   "execution_count": 150,
   "id": "5b0c1204-db5a-4776-bd30-5aacbb163726",
   "metadata": {},
   "outputs": [
    {
     "name": "stdout",
     "output_type": "stream",
     "text": [
      "{1, 2, 3}\n"
     ]
    }
   ],
   "source": [
    "print (daily_pints)"
   ]
  },
  {
   "cell_type": "code",
   "execution_count": 184,
   "id": "326ad395-1cc4-452d-828a-9be958e327e3",
   "metadata": {},
   "outputs": [
    {
     "name": "stdout",
     "output_type": "stream",
     "text": [
      "{1, 2, 3, 4}\n"
     ]
    }
   ],
   "source": [
    "daily_pint_logs = {1,2,3,1,2,3,1,2,3,4}\n",
    "print (daily_pint_logs)"
   ]
  },
  {
   "cell_type": "code",
   "execution_count": 182,
   "id": "a49ea828-c41a-4a7a-9ed9-24c1384f4fdb",
   "metadata": {},
   "outputs": [],
   "source": [
    "wife_daily_pints_logs = {1,2,3,4,5,6,76,78,87,0,23,4,5,6}"
   ]
  },
  {
   "cell_type": "code",
   "execution_count": 170,
   "id": "a20d7b57-46c7-4be2-9ae6-6a36d8a04a96",
   "metadata": {},
   "outputs": [
    {
     "name": "stdout",
     "output_type": "stream",
     "text": [
      "{0, 1, 2, 3, 4, 5, 6, 76, 78, 23, 87}\n"
     ]
    }
   ],
   "source": [
    "print (daily_pint_logs | wife_daily_pints_logs)"
   ]
  },
  {
   "cell_type": "code",
   "execution_count": 172,
   "id": "d21049b1-6ce4-49ef-85e0-e9e888c2154e",
   "metadata": {},
   "outputs": [
    {
     "name": "stdout",
     "output_type": "stream",
     "text": [
      "{1, 2, 3, 4}\n"
     ]
    }
   ],
   "source": [
    "print (daily_pint_logs & wife_daily_pints_logs)"
   ]
  },
  {
   "cell_type": "code",
   "execution_count": 188,
   "id": "c958bcf3-4106-47a4-8e58-86271bd97ea0",
   "metadata": {},
   "outputs": [
    {
     "name": "stdout",
     "output_type": "stream",
     "text": [
      "{0, 5, 6, 76, 78, 23, 87}\n"
     ]
    }
   ],
   "source": [
    "print (wife_daily_pints_logs - daily_pint_logs)"
   ]
  },
  {
   "cell_type": "code",
   "execution_count": 194,
   "id": "ced963e0-44fa-4c17-9bf5-2ef98e81c417",
   "metadata": {},
   "outputs": [
    {
     "name": "stdout",
     "output_type": "stream",
     "text": [
      "{0, 5, 6, 76, 78, 87, 23}\n"
     ]
    }
   ],
   "source": [
    "print (daily_pint_logs ^ wife_daily_pints_logs)"
   ]
  },
  {
   "cell_type": "code",
   "execution_count": 202,
   "id": "ed053715-c83e-4b1c-8c7d-b42797ebd03b",
   "metadata": {},
   "outputs": [],
   "source": [
    "# Dicitionary\n",
    "# Key/Value Pair\n",
    "\n",
    "dict_cream = {'name':'Akrama','Weekly Intake': 5 , 'Favourite Ice Cream': ['MCC', 'Mint Chocolate']}"
   ]
  },
  {
   "cell_type": "code",
   "execution_count": 206,
   "id": "420f39ff-328c-49ac-97fd-fde064c46e3a",
   "metadata": {},
   "outputs": [
    {
     "data": {
      "text/plain": [
       "dict"
      ]
     },
     "execution_count": 206,
     "metadata": {},
     "output_type": "execute_result"
    }
   ],
   "source": [
    "type (dict_cream)"
   ]
  },
  {
   "cell_type": "code",
   "execution_count": 208,
   "id": "ad787fa7-68a7-49ba-87d4-a3d511248c1d",
   "metadata": {},
   "outputs": [
    {
     "name": "stdout",
     "output_type": "stream",
     "text": [
      "{'name': 'Akrama', 'Weekly Intake': 5, 'Favourite Ice Cream': ['MCC', 'Mint Chocolate']}\n"
     ]
    }
   ],
   "source": [
    "print (dict_cream)"
   ]
  },
  {
   "cell_type": "code",
   "execution_count": 215,
   "id": "0b7cb654-343f-4104-b2df-4309591bab48",
   "metadata": {},
   "outputs": [
    {
     "data": {
      "text/plain": [
       "dict_values(['Akrama', 5, ['MCC', 'Mint Chocolate']])"
      ]
     },
     "execution_count": 215,
     "metadata": {},
     "output_type": "execute_result"
    }
   ],
   "source": [
    "dict_cream.values()"
   ]
  },
  {
   "cell_type": "code",
   "execution_count": 219,
   "id": "cd841f66-f75d-46fc-bdb5-aba02d3ff06e",
   "metadata": {},
   "outputs": [
    {
     "data": {
      "text/plain": [
       "dict_keys(['name', 'Weekly Intake', 'Favourite Ice Cream'])"
      ]
     },
     "execution_count": 219,
     "metadata": {},
     "output_type": "execute_result"
    }
   ],
   "source": [
    "dict_cream.keys()"
   ]
  },
  {
   "cell_type": "code",
   "execution_count": 221,
   "id": "79237597-a5dc-40b6-880c-4d5291b918b8",
   "metadata": {},
   "outputs": [
    {
     "data": {
      "text/plain": [
       "dict_items([('name', 'Akrama'), ('Weekly Intake', 5), ('Favourite Ice Cream', ['MCC', 'Mint Chocolate'])])"
      ]
     },
     "execution_count": 221,
     "metadata": {},
     "output_type": "execute_result"
    }
   ],
   "source": [
    "dict_cream.items()"
   ]
  },
  {
   "cell_type": "code",
   "execution_count": 223,
   "id": "ddf87cff-42a3-4de4-b37f-a969a34b48e7",
   "metadata": {},
   "outputs": [
    {
     "data": {
      "text/plain": [
       "'Akrama'"
      ]
     },
     "execution_count": 223,
     "metadata": {},
     "output_type": "execute_result"
    }
   ],
   "source": [
    "dict_cream['name']"
   ]
  },
  {
   "cell_type": "code",
   "execution_count": 235,
   "id": "78c9497a-618d-48fb-95b8-3273d56ef1b4",
   "metadata": {},
   "outputs": [
    {
     "name": "stdout",
     "output_type": "stream",
     "text": [
      "{'name': 'Akrama Naveed', 'Weekly Intake': 5, 'Favourite Ice Cream': ['MCC', 'Mint Chocolate'], 'names': 'Akrama Naveed'}\n"
     ]
    }
   ],
   "source": [
    "dict_cream['name'] = 'Akrama Naveed'\n",
    "print (dict_cream)"
   ]
  },
  {
   "cell_type": "code",
   "execution_count": 243,
   "id": "6e197f77-8ff4-4c70-8a34-fa9e07773816",
   "metadata": {},
   "outputs": [],
   "source": [
    "dict_cream.update({'name':'Akrama','Weekly Intake': 5 , 'Weight': 300 })"
   ]
  },
  {
   "cell_type": "code",
   "execution_count": 245,
   "id": "61688de3-2e5b-4c0e-803c-5cad305e34da",
   "metadata": {},
   "outputs": [
    {
     "name": "stdout",
     "output_type": "stream",
     "text": [
      "{'name': 'Akrama', 'Weekly Intake': 5, 'Favourite Ice Cream': ['MCC', 'Mint Chocolate'], 'names': 'Akrama Naveed', 'Weight': 300}\n"
     ]
    }
   ],
   "source": [
    "print (dict_cream)"
   ]
  },
  {
   "cell_type": "code",
   "execution_count": 247,
   "id": "531eb610-8fda-4563-8b82-7b32f7d881d2",
   "metadata": {},
   "outputs": [
    {
     "name": "stdout",
     "output_type": "stream",
     "text": [
      "{'name': 'Akrama', 'Weekly Intake': 5, 'Favourite Ice Cream': ['MCC', 'Mint Chocolate'], 'names': 'Akrama Naveed', 'Weight': 300}\n"
     ]
    }
   ],
   "source": [
    "{'name': 'Akrama', 'Weekly Intake': 10, 'Favourite Ice Cream': ['MCC', 'Mint Chocolate'], 'names': 'Akrama Naveed', 'Weight': 300}\n",
    "print(dict_cream)"
   ]
  },
  {
   "cell_type": "code",
   "execution_count": 256,
   "id": "88232f62-8545-4aba-b66a-e89c8e0e9a9a",
   "metadata": {},
   "outputs": [
    {
     "name": "stdout",
     "output_type": "stream",
     "text": [
      "{'name': 'Akrama', 'Weekly Intake': 5, 'Favourite Ice Cream': ['MCC', 'Mint Chocolate'], 'names': 'Akrama Naveed'}\n"
     ]
    }
   ],
   "source": [
    "del dict_cream['Weight']\n",
    "print (dict_cream)"
   ]
  },
  {
   "cell_type": "code",
   "execution_count": null,
   "id": "d9ea417a-d9d9-4566-808b-51cb4fa837ef",
   "metadata": {},
   "outputs": [],
   "source": []
  },
  {
   "cell_type": "code",
   "execution_count": null,
   "id": "dc261042-9b9d-4789-b7f6-c29b3c97eb1b",
   "metadata": {},
   "outputs": [],
   "source": []
  },
  {
   "cell_type": "code",
   "execution_count": null,
   "id": "c063e1e2-f4fb-421e-91e2-787588673553",
   "metadata": {},
   "outputs": [],
   "source": []
  }
 ],
 "metadata": {
  "kernelspec": {
   "display_name": "Python 3 (ipykernel)",
   "language": "python",
   "name": "python3"
  },
  "language_info": {
   "codemirror_mode": {
    "name": "ipython",
    "version": 3
   },
   "file_extension": ".py",
   "mimetype": "text/x-python",
   "name": "python",
   "nbconvert_exporter": "python",
   "pygments_lexer": "ipython3",
   "version": "3.12.7"
  }
 },
 "nbformat": 4,
 "nbformat_minor": 5
}
