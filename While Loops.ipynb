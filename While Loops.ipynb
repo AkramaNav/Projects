{
 "cells": [
  {
   "cell_type": "markdown",
   "id": "56b14b94-139c-458b-b31c-dadb05f0b243",
   "metadata": {},
   "source": [
    "# While Loops"
   ]
  },
  {
   "cell_type": "code",
   "execution_count": 7,
   "id": "500ffdab-643c-4da2-868c-80983ec04cd5",
   "metadata": {},
   "outputs": [
    {
     "name": "stdout",
     "output_type": "stream",
     "text": [
      "0\n",
      "1\n",
      "2\n",
      "3\n",
      "4\n"
     ]
    }
   ],
   "source": [
    "number = 0\n",
    "while number < 5:\n",
    "    print(number)\n",
    "    number = number + 1"
   ]
  },
  {
   "cell_type": "code",
   "execution_count": 9,
   "id": "cc887272-d686-4b4e-b43d-2dff55bef4d7",
   "metadata": {},
   "outputs": [
    {
     "name": "stdout",
     "output_type": "stream",
     "text": [
      "0\n",
      "1\n",
      "2\n",
      "3\n"
     ]
    }
   ],
   "source": [
    "number = 0\n",
    "while number < 5:\n",
    "    print(number)\n",
    "    if number == 3:\n",
    "        break\n",
    "    number = number + 1"
   ]
  },
  {
   "cell_type": "code",
   "execution_count": 21,
   "id": "ee5326cf-ce80-4a43-876f-f0133275b6fa",
   "metadata": {},
   "outputs": [
    {
     "name": "stdout",
     "output_type": "stream",
     "text": [
      "0\n",
      "1\n",
      "2\n",
      "3\n",
      "4\n",
      "No longer less than 5\n"
     ]
    }
   ],
   "source": [
    "number = 0\n",
    "while number < 5:\n",
    "    print(number)\n",
    "    if number == 6:\n",
    "        break\n",
    "    number = number + 1\n",
    "else:\n",
    "    print('No longer less than 5')"
   ]
  },
  {
   "cell_type": "code",
   "execution_count": null,
   "id": "57be23fa-7694-431b-a1c7-2588957de355",
   "metadata": {},
   "outputs": [],
   "source": [
    "number = 0\n",
    "while number < 5:\n",
    "    print(number)\n",
    "    if number == 3:\n",
    "        continue\n",
    "    number = number + 1\n",
    "else:\n",
    "    print('not longer than 5')"
   ]
  },
  {
   "cell_type": "code",
   "execution_count": null,
   "id": "69ff1af2-e0b4-497c-9a27-e496673a95dc",
   "metadata": {},
   "outputs": [],
   "source": []
  },
  {
   "cell_type": "code",
   "execution_count": null,
   "id": "01439cd9-b932-4a95-8774-49424e09347f",
   "metadata": {},
   "outputs": [],
   "source": []
  },
  {
   "cell_type": "code",
   "execution_count": null,
   "id": "6514723c-18a2-43e0-a4fd-9b5c2d37f661",
   "metadata": {},
   "outputs": [],
   "source": []
  },
  {
   "cell_type": "code",
   "execution_count": null,
   "id": "ac68f35e-91b1-4042-89ab-cb87aeecb556",
   "metadata": {},
   "outputs": [],
   "source": []
  },
  {
   "cell_type": "code",
   "execution_count": null,
   "id": "46d64b95-5b1f-4379-acd1-3219a64ac895",
   "metadata": {},
   "outputs": [],
   "source": []
  }
 ],
 "metadata": {
  "kernelspec": {
   "display_name": "Python 3 (ipykernel)",
   "language": "python",
   "name": "python3"
  },
  "language_info": {
   "codemirror_mode": {
    "name": "ipython",
    "version": 3
   },
   "file_extension": ".py",
   "mimetype": "text/x-python",
   "name": "python",
   "nbconvert_exporter": "python",
   "pygments_lexer": "ipython3",
   "version": "3.12.7"
  }
 },
 "nbformat": 4,
 "nbformat_minor": 5
}
