{
 "cells": [
  {
   "cell_type": "markdown",
   "id": "9888ba55-4e9b-4706-ae26-477f41c420d9",
   "metadata": {},
   "source": [
    "# For Loops"
   ]
  },
  {
   "cell_type": "code",
   "execution_count": 5,
   "id": "e99714aa-65c2-4dc5-b30d-8ac03000d060",
   "metadata": {},
   "outputs": [],
   "source": [
    "integers = [1,2,3,4,5]"
   ]
  },
  {
   "cell_type": "code",
   "execution_count": 29,
   "id": "21daef4e-c5e9-4919-8df8-f5168303ce18",
   "metadata": {},
   "outputs": [
    {
     "name": "stdout",
     "output_type": "stream",
     "text": [
      "1\n",
      "2\n",
      "3\n",
      "4\n",
      "5\n"
     ]
    }
   ],
   "source": [
    "for number in integers:\n",
    "    print(number)"
   ]
  },
  {
   "cell_type": "code",
   "execution_count": 33,
   "id": "b03e659b-da2a-4ec8-afbb-4d66056c65f4",
   "metadata": {},
   "outputs": [
    {
     "name": "stdout",
     "output_type": "stream",
     "text": [
      "si!\n",
      "si!\n",
      "si!\n",
      "si!\n",
      "si!\n"
     ]
    }
   ],
   "source": [
    "for number in integers:\n",
    "    print('si!')"
   ]
  },
  {
   "cell_type": "code",
   "execution_count": 37,
   "id": "75b7c404-8011-4a5a-a45d-cf0cf976f729",
   "metadata": {},
   "outputs": [],
   "source": [
    "integers = [1,2,3,4,5]"
   ]
  },
  {
   "cell_type": "code",
   "execution_count": 41,
   "id": "4917c668-df50-465f-baf4-85c041572528",
   "metadata": {},
   "outputs": [
    {
     "name": "stdout",
     "output_type": "stream",
     "text": [
      "1\n",
      "4\n",
      "9\n",
      "16\n",
      "25\n"
     ]
    }
   ],
   "source": [
    "for numero in integers:\n",
    "    print(numero * numero)"
   ]
  },
  {
   "cell_type": "code",
   "execution_count": 47,
   "id": "693bfba6-289a-464a-b4d7-719b6d58bdcf",
   "metadata": {},
   "outputs": [],
   "source": [
    "ice_cream_dict = {'name': 'Akrama', 'Weekly Intake': 5, 'favourite ice creams': ['MCC','Chocolate']}"
   ]
  },
  {
   "cell_type": "code",
   "execution_count": 51,
   "id": "b8012fba-51fa-4beb-81c9-81ec19c81672",
   "metadata": {},
   "outputs": [
    {
     "name": "stdout",
     "output_type": "stream",
     "text": [
      "Akrama\n",
      "5\n",
      "['MCC', 'Chocolate']\n"
     ]
    }
   ],
   "source": [
    "for cream in ice_cream_dict.values():\n",
    "    print(cream)"
   ]
  },
  {
   "cell_type": "code",
   "execution_count": 55,
   "id": "f97f081c-83d7-4bb1-aabf-1f9cf2ef4182",
   "metadata": {},
   "outputs": [
    {
     "name": "stdout",
     "output_type": "stream",
     "text": [
      "name -> Akrama\n",
      "Weekly Intake -> 5\n",
      "favourite ice creams -> ['MCC', 'Chocolate']\n"
     ]
    }
   ],
   "source": [
    "for key, value in ice_cream_dict.items():\n",
    "    print(key, '->', value)"
   ]
  },
  {
   "cell_type": "code",
   "execution_count": null,
   "id": "bc056747-0d0e-4082-8dbc-f591acc59eb8",
   "metadata": {},
   "outputs": [],
   "source": []
  },
  {
   "cell_type": "markdown",
   "id": "ad50d0f7-678b-42d0-98ff-3a1d05983df1",
   "metadata": {},
   "source": [
    "# Nested For loops "
   ]
  },
  {
   "cell_type": "code",
   "execution_count": 60,
   "id": "a2a86760-b293-48f1-8905-86f6c9f2a369",
   "metadata": {},
   "outputs": [],
   "source": [
    "flavours = ['Vanilla', 'Chocolate', 'CCM']\n",
    "toppings = ['ChocoChip','oreos','Marshmellows']"
   ]
  },
  {
   "cell_type": "code",
   "execution_count": 62,
   "id": "dca1a2f8-ef32-4ef5-8576-362dd99470d1",
   "metadata": {},
   "outputs": [
    {
     "name": "stdout",
     "output_type": "stream",
     "text": [
      "Vanilla topped with ChocoChip\n",
      "Vanilla topped with oreos\n",
      "Vanilla topped with Marshmellows\n",
      "Chocolate topped with ChocoChip\n",
      "Chocolate topped with oreos\n",
      "Chocolate topped with Marshmellows\n",
      "CCM topped with ChocoChip\n",
      "CCM topped with oreos\n",
      "CCM topped with Marshmellows\n"
     ]
    }
   ],
   "source": [
    "for one in flavours:\n",
    "  for two in toppings:\n",
    "    print(one, 'topped with', two)"
   ]
  },
  {
   "cell_type": "code",
   "execution_count": null,
   "id": "cc2ef35e-5324-4be5-bf41-ebfd462dfecb",
   "metadata": {},
   "outputs": [],
   "source": []
  },
  {
   "cell_type": "code",
   "execution_count": null,
   "id": "4b9d2117-bc64-4f89-975b-43c7d6c23c3f",
   "metadata": {},
   "outputs": [],
   "source": []
  },
  {
   "cell_type": "code",
   "execution_count": null,
   "id": "c7649dbb-273c-45aa-b584-00a54d1e62ff",
   "metadata": {},
   "outputs": [],
   "source": []
  },
  {
   "cell_type": "code",
   "execution_count": null,
   "id": "8827ddb2-f9ee-4e1f-a9ac-21ee752b947d",
   "metadata": {},
   "outputs": [],
   "source": []
  },
  {
   "cell_type": "code",
   "execution_count": null,
   "id": "294eaf23-3d9d-426e-9ae2-146bbcadcc19",
   "metadata": {},
   "outputs": [],
   "source": []
  },
  {
   "cell_type": "code",
   "execution_count": null,
   "id": "3d447d6a-89ec-4923-8f8e-19e37c711c31",
   "metadata": {},
   "outputs": [],
   "source": []
  },
  {
   "cell_type": "code",
   "execution_count": null,
   "id": "451533b4-184d-4cb8-91c1-a6e3d0fdcdfd",
   "metadata": {},
   "outputs": [],
   "source": []
  },
  {
   "cell_type": "code",
   "execution_count": null,
   "id": "ede058ed-1872-405d-808f-b36d8a5c4df0",
   "metadata": {},
   "outputs": [],
   "source": []
  },
  {
   "cell_type": "code",
   "execution_count": null,
   "id": "7cdf08a8-0c74-457f-830b-f99271d16b0e",
   "metadata": {},
   "outputs": [],
   "source": []
  },
  {
   "cell_type": "code",
   "execution_count": null,
   "id": "bca84eab-62bc-475e-8261-b437d82785ba",
   "metadata": {},
   "outputs": [],
   "source": []
  },
  {
   "cell_type": "code",
   "execution_count": null,
   "id": "90e9d5f5-6188-4407-a323-1987e901b01e",
   "metadata": {},
   "outputs": [],
   "source": []
  },
  {
   "cell_type": "code",
   "execution_count": null,
   "id": "01b59a80-60b5-463c-8821-bf372745670c",
   "metadata": {},
   "outputs": [],
   "source": []
  }
 ],
 "metadata": {
  "kernelspec": {
   "display_name": "Python 3 (ipykernel)",
   "language": "python",
   "name": "python3"
  },
  "language_info": {
   "codemirror_mode": {
    "name": "ipython",
    "version": 3
   },
   "file_extension": ".py",
   "mimetype": "text/x-python",
   "name": "python",
   "nbconvert_exporter": "python",
   "pygments_lexer": "ipython3",
   "version": "3.12.7"
  }
 },
 "nbformat": 4,
 "nbformat_minor": 5
}
