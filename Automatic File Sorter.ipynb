{
 "cells": [
  {
   "cell_type": "markdown",
   "id": "1846227a-0b14-4843-a1e9-7c16b2948c7e",
   "metadata": {},
   "source": [
    "# Automatic File Sorter"
   ]
  },
  {
   "cell_type": "code",
   "execution_count": 3,
   "id": "0c4d6913-1001-4514-b0f6-04faa4f8ea4b",
   "metadata": {},
   "outputs": [],
   "source": [
    "import os, shutil"
   ]
  },
  {
   "cell_type": "code",
   "execution_count": 76,
   "id": "74533f23-ec6f-4c73-8a1e-317e366410d9",
   "metadata": {},
   "outputs": [],
   "source": [
    "path = r\"C:/Users/Akrama/Desktop/downloads/\""
   ]
  },
  {
   "cell_type": "code",
   "execution_count": 78,
   "id": "bb4b0566-02b7-4606-922f-9bc3d993b6ab",
   "metadata": {},
   "outputs": [],
   "source": [
    "file_name = os.listdir(path)"
   ]
  },
  {
   "cell_type": "code",
   "execution_count": 98,
   "id": "467a9cde-aeb1-4388-907f-ad7f50b1470c",
   "metadata": {},
   "outputs": [],
   "source": [
    "folder_names = ['CSV Files', 'Image Files', 'Text Files', 'JPG Files', 'PDF Files', 'Word Documents', 'Video Files','Explorer Files','Torrent Files']\n",
    "\n",
    "for loop in range(0,9):\n",
    "    if not os.path.exists(path + folder_names[loop]):\n",
    "        os.makedirs((path + folder_names[loop]))"
   ]
  },
  {
   "cell_type": "code",
   "execution_count": 106,
   "id": "c9d74eff-1fe2-42dc-ab77-654d49af1449",
   "metadata": {},
   "outputs": [
    {
     "name": "stdout",
     "output_type": "stream",
     "text": [
      "There are files that are in this path that were not moved\n"
     ]
    }
   ],
   "source": [
    "for file in file_name:\n",
    "    if \".csv\" in file and not os.path.exists(path + \"CSV Files/\" + file):\n",
    "        shutil.move(path + file, path + \"CSV Files/\" + file)\n",
    "    elif \".img\" in file and not os.path.exists(path + \"Image Files/\" + file):\n",
    "        shutil.move(path + file, path + \"Image Files/\" + file)\n",
    "    elif \".png\" in file and not os.path.exists(path + \"Image Files/\" + file):\n",
    "        shutil.move(path + file, path + \"Image Files/\" + file)\n",
    "    elif \".jpg\" in file and not os.path.exists(path + \"JPG Files/\" + file):\n",
    "        shutil.move(path + file, path + \"JPG Files/\" + file)\n",
    "    elif \".pdf\" in file and not os.path.exists(path + \"PDF Files/\" + file):\n",
    "        shutil.move(path + file, path + \"PDF Files/\" + file)\n",
    "    elif \".docx\" in file and not os.path.exists(path + \"Word Documents/\" + file):\n",
    "        shutil.move(path + file, path + \"Word Documents/\" + file)\n",
    "    elif \".mkv\" in file and not os.path.exists(path + \"Video Files/\" + file):\n",
    "        shutil.move(path + file, path + \"Video Files/\" + file)\n",
    "    elif \".exe\" in file and not os.path.exists(path + \"Explorer Files/\" + file):\n",
    "        shutil.move(path + file, path + \"Explorer Files/\" + file)\n",
    "else:\n",
    "    print(\"There are files that are in this path that were not moved\")"
   ]
  },
  {
   "cell_type": "code",
   "execution_count": null,
   "id": "690af7b8-e350-47c4-80bb-2a3e57ef109f",
   "metadata": {},
   "outputs": [],
   "source": []
  },
  {
   "cell_type": "code",
   "execution_count": null,
   "id": "d49c0d17-c606-4efc-bd95-f799f60ec5c9",
   "metadata": {},
   "outputs": [],
   "source": []
  },
  {
   "cell_type": "code",
   "execution_count": null,
   "id": "3eded151-6f74-46f1-a874-1c1563f95d60",
   "metadata": {},
   "outputs": [],
   "source": []
  },
  {
   "cell_type": "code",
   "execution_count": null,
   "id": "78a7ecad-c0be-4df6-a20b-01d63b321135",
   "metadata": {},
   "outputs": [],
   "source": []
  },
  {
   "cell_type": "code",
   "execution_count": null,
   "id": "c7d2c3a8-8b23-4731-97bc-369a0bf6e470",
   "metadata": {},
   "outputs": [],
   "source": []
  },
  {
   "cell_type": "code",
   "execution_count": null,
   "id": "1c3f5442-22a2-4aa7-885f-128ea37a6df6",
   "metadata": {},
   "outputs": [],
   "source": []
  },
  {
   "cell_type": "code",
   "execution_count": null,
   "id": "5b211dec-288b-4a86-9554-5f83454071b2",
   "metadata": {},
   "outputs": [],
   "source": []
  },
  {
   "cell_type": "code",
   "execution_count": null,
   "id": "422dc485-aeee-4273-9be5-78b953a197b8",
   "metadata": {},
   "outputs": [],
   "source": []
  },
  {
   "cell_type": "code",
   "execution_count": null,
   "id": "ed056d8d-800c-48ca-a918-94e6cf282c8a",
   "metadata": {},
   "outputs": [],
   "source": []
  },
  {
   "cell_type": "code",
   "execution_count": null,
   "id": "8d62193e-f9c4-4271-bf66-d091a8950728",
   "metadata": {},
   "outputs": [],
   "source": []
  }
 ],
 "metadata": {
  "kernelspec": {
   "display_name": "Python 3 (ipykernel)",
   "language": "python",
   "name": "python3"
  },
  "language_info": {
   "codemirror_mode": {
    "name": "ipython",
    "version": 3
   },
   "file_extension": ".py",
   "mimetype": "text/x-python",
   "name": "python",
   "nbconvert_exporter": "python",
   "pygments_lexer": "ipython3",
   "version": "3.12.7"
  }
 },
 "nbformat": 4,
 "nbformat_minor": 5
}
