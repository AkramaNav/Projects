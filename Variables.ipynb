{
 "cells": [
  {
   "cell_type": "markdown",
   "id": "9d503eac-f7af-415e-80e1-067b7116f4d0",
   "metadata": {},
   "source": [
    "# Varibales In Python"
   ]
  },
  {
   "cell_type": "code",
   "execution_count": 15,
   "id": "55f3539b-82b0-4fab-a94d-dac2e8ab4d32",
   "metadata": {},
   "outputs": [
    {
     "name": "stdout",
     "output_type": "stream",
     "text": [
      "22\n"
     ]
    }
   ],
   "source": [
    "x = 22\n",
    "print (x)"
   ]
  },
  {
   "cell_type": "code",
   "execution_count": 13,
   "id": "13721500-3ae3-4f07-8ac3-b74e86fb9172",
   "metadata": {},
   "outputs": [
    {
     "data": {
      "text/plain": [
       "int"
      ]
     },
     "execution_count": 13,
     "metadata": {},
     "output_type": "execute_result"
    }
   ],
   "source": [
    "type(x)"
   ]
  },
  {
   "cell_type": "code",
   "execution_count": 18,
   "id": "f62a5f02-28c8-4a49-9980-ae9760dbc83b",
   "metadata": {},
   "outputs": [
    {
     "name": "stdout",
     "output_type": "stream",
     "text": [
      "DairyMilk\n"
     ]
    }
   ],
   "source": [
    "y = 'DairyMilk'\n",
    "print (y)"
   ]
  },
  {
   "cell_type": "code",
   "execution_count": 20,
   "id": "69171980-91a6-4173-bd6b-33c9f2e3698f",
   "metadata": {},
   "outputs": [
    {
     "data": {
      "text/plain": [
       "str"
      ]
     },
     "execution_count": 20,
     "metadata": {},
     "output_type": "execute_result"
    }
   ],
   "source": [
    "type (y)"
   ]
  },
  {
   "cell_type": "code",
   "execution_count": 37,
   "id": "833abdb2-b148-470a-ac5d-d8a4d16f393e",
   "metadata": {},
   "outputs": [
    {
     "name": "stdout",
     "output_type": "stream",
     "text": [
      "chocolate\n"
     ]
    }
   ],
   "source": [
    "y = 'chocolate' \n",
    "print(y)"
   ]
  },
  {
   "cell_type": "code",
   "execution_count": 47,
   "id": "b6fefe29-574a-4cb4-bab3-c51de946738d",
   "metadata": {},
   "outputs": [
    {
     "name": "stdout",
     "output_type": "stream",
     "text": [
      "chocolate vanilla Dairy Milk\n"
     ]
    }
   ],
   "source": [
    "x,y,z = 'chocolate', 'vanilla', 'Dairy Milk'\n",
    "print(x,y,z)"
   ]
  },
  {
   "cell_type": "code",
   "execution_count": 43,
   "id": "80588b01-7d85-4494-958f-5d9044c9337c",
   "metadata": {},
   "outputs": [
    {
     "name": "stdout",
     "output_type": "stream",
     "text": [
      "Akrama is Good at Games Akrama is Good at Games Akrama is Good at Games\n"
     ]
    }
   ],
   "source": [
    "x = y = z = 'Akrama is Good at Games'\n",
    "print (x,y,z)"
   ]
  },
  {
   "cell_type": "code",
   "execution_count": 55,
   "id": "fada2847-7838-4171-a769-12f88b9d6074",
   "metadata": {},
   "outputs": [
    {
     "name": "stdout",
     "output_type": "stream",
     "text": [
      "Chocolate Vanilla Dairy Milk\n"
     ]
    }
   ],
   "source": [
    "ice_cream = ['Chocolate', 'Vanilla', 'Dairy Milk']\n",
    "x,y,z = ice_cream\n",
    "print (x,y,z)"
   ]
  },
  {
   "cell_type": "code",
   "execution_count": 61,
   "id": "756814d5-c924-49c1-b39f-95f3f4655682",
   "metadata": {},
   "outputs": [],
   "source": [
    "# Camel Case\n",
    "# test Variable Case\n",
    "\n",
    "testVariableCase = 'Vanilla Swirl'"
   ]
  },
  {
   "cell_type": "code",
   "execution_count": 63,
   "id": "0def0f6b-6b93-46e1-b624-448c869dfe0b",
   "metadata": {},
   "outputs": [],
   "source": [
    "# Pascal Case\n",
    "# test Variable Case\n",
    "\n",
    "TestVariableCase = 'Vanilla Swirl'"
   ]
  },
  {
   "cell_type": "code",
   "execution_count": 65,
   "id": "cba8c0af-3ada-4993-8b69-0a43246935e6",
   "metadata": {},
   "outputs": [],
   "source": [
    "# Snake Case\n",
    "# test Variable Case\n",
    "\n",
    "test_variable_case = 'Vanilla Swirl'"
   ]
  },
  {
   "cell_type": "code",
   "execution_count": null,
   "id": "df814918-d606-4908-90cf-45e63a06169b",
   "metadata": {},
   "outputs": [],
   "source": [
    "testvar = 'Vanilla Swirl'\n",
    "test_var = 'Vanilla Swirl'\n",
    "_test_var = 'Vanilla Swirl'\n",
    "testVar = 'Vanilla Swirl'\n",
    "TestVar = 'Vanilla Swirl'\n",
    "testVar2 = 'Vanilla Swirl'"
   ]
  },
  {
   "cell_type": "code",
   "execution_count": 67,
   "id": "cf870d47-50a8-40e8-8143-a66286fd71f2",
   "metadata": {},
   "outputs": [
    {
     "name": "stdout",
     "output_type": "stream",
     "text": [
      "Ice Cream is Awesome.\n"
     ]
    }
   ],
   "source": [
    "x = 'Ice Cream is Awesome' + '.'\n",
    "print (x)"
   ]
  },
  {
   "cell_type": "code",
   "execution_count": null,
   "id": "5650e6fe-6b83-4f16-84df-d3cc9d41dbfb",
   "metadata": {},
   "outputs": [],
   "source": []
  },
  {
   "cell_type": "code",
   "execution_count": null,
   "id": "26598c40-20e6-4039-90a7-2a3bb8c156ec",
   "metadata": {},
   "outputs": [],
   "source": []
  },
  {
   "cell_type": "code",
   "execution_count": null,
   "id": "085dea36-3b7a-4a69-8537-63936d18c2fd",
   "metadata": {},
   "outputs": [],
   "source": []
  },
  {
   "cell_type": "code",
   "execution_count": null,
   "id": "e3a48bdb-4713-4f9c-8404-6a13b8182a18",
   "metadata": {},
   "outputs": [],
   "source": []
  }
 ],
 "metadata": {
  "kernelspec": {
   "display_name": "Python 3 (ipykernel)",
   "language": "python",
   "name": "python3"
  },
  "language_info": {
   "codemirror_mode": {
    "name": "ipython",
    "version": 3
   },
   "file_extension": ".py",
   "mimetype": "text/x-python",
   "name": "python",
   "nbconvert_exporter": "python",
   "pygments_lexer": "ipython3",
   "version": "3.12.7"
  }
 },
 "nbformat": 4,
 "nbformat_minor": 5
}
