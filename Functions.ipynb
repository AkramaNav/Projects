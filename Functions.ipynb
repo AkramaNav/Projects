{
 "cells": [
  {
   "cell_type": "markdown",
   "id": "fad45b1f-9efa-4a11-8657-dd45fe8ae571",
   "metadata": {},
   "source": [
    "# Function"
   ]
  },
  {
   "cell_type": "code",
   "execution_count": 20,
   "id": "3fb8d4c8-3045-4824-8fef-c80d3fc2ff80",
   "metadata": {},
   "outputs": [
    {
     "name": "stdout",
     "output_type": "stream",
     "text": [
      "My First Function\n"
     ]
    }
   ],
   "source": [
    "def function():\n",
    "    print(\"My First Function\")\n",
    "\n",
    "function()"
   ]
  },
  {
   "cell_type": "code",
   "execution_count": 28,
   "id": "f6b78ec4-7ec3-4132-8f21-a5000aecd5df",
   "metadata": {},
   "outputs": [
    {
     "name": "stdout",
     "output_type": "stream",
     "text": [
      "Hi\n"
     ]
    }
   ],
   "source": [
    "def first_func():\n",
    "    print(\"Hi\");\n",
    "first_func()"
   ]
  },
  {
   "cell_type": "code",
   "execution_count": 33,
   "id": "e417b2e5-a13f-40bf-927f-deab694cf646",
   "metadata": {},
   "outputs": [],
   "source": [
    "def number_squared(number):\n",
    "    print(number**2)"
   ]
  },
  {
   "cell_type": "code",
   "execution_count": 35,
   "id": "4eb738e5-7f7a-47c0-83e1-8f9117846a54",
   "metadata": {},
   "outputs": [
    {
     "name": "stdout",
     "output_type": "stream",
     "text": [
      "25\n"
     ]
    }
   ],
   "source": [
    "number_squared(5)"
   ]
  },
  {
   "cell_type": "code",
   "execution_count": 37,
   "id": "866d7e16-d81a-47b6-b3dc-5c6c0c610472",
   "metadata": {},
   "outputs": [],
   "source": [
    "def number_squared_cust(number, power):\n",
    "    print(number**power)"
   ]
  },
  {
   "cell_type": "code",
   "execution_count": 39,
   "id": "c5747978-a192-46a9-8118-88517dd978bc",
   "metadata": {},
   "outputs": [
    {
     "name": "stdout",
     "output_type": "stream",
     "text": [
      "125\n"
     ]
    }
   ],
   "source": [
    "number_squared_cust(5,3)"
   ]
  },
  {
   "cell_type": "code",
   "execution_count": 53,
   "id": "b9ec239b-3cfe-44a3-bc0a-777f4de2146e",
   "metadata": {},
   "outputs": [],
   "source": [
    "\n",
    "args_tuple = (5,6,1,2,8)\n",
    "\n",
    "def number_args(*number):\n",
    "    print(number[0]*number[1])"
   ]
  },
  {
   "cell_type": "code",
   "execution_count": 57,
   "id": "469541c2-1beb-4666-a3f4-f20c5be0d116",
   "metadata": {},
   "outputs": [
    {
     "name": "stdout",
     "output_type": "stream",
     "text": [
      "30\n"
     ]
    }
   ],
   "source": [
    "number_args(*args_tuple)"
   ]
  },
  {
   "cell_type": "code",
   "execution_count": null,
   "id": "f00735d3-0d15-4d2d-adf0-f0e6ecf8713f",
   "metadata": {},
   "outputs": [],
   "source": [
    "def number_squared_cust(number, power):\n",
    "    print(number**power)"
   ]
  },
  {
   "cell_type": "code",
   "execution_count": 65,
   "id": "2b06ab35-9fc6-440e-a96e-40b0cb981b74",
   "metadata": {},
   "outputs": [
    {
     "name": "stdout",
     "output_type": "stream",
     "text": [
      "243\n"
     ]
    }
   ],
   "source": [
    "number_squared_cust(power = 5,number = 3)"
   ]
  },
  {
   "cell_type": "code",
   "execution_count": 79,
   "id": "2e48fad1-ed5d-49d9-a5fd-636c19997afb",
   "metadata": {},
   "outputs": [],
   "source": [
    "def number_kward(**number):\n",
    "    print('My Number is: ' + number['integer']+ ' My Other number:' + number['integer2'])"
   ]
  },
  {
   "cell_type": "code",
   "execution_count": 81,
   "id": "86f9a46f-05b6-4621-9378-74af1433a02a",
   "metadata": {},
   "outputs": [
    {
     "name": "stdout",
     "output_type": "stream",
     "text": [
      "My Number is: 2309 My Other number:346\n"
     ]
    }
   ],
   "source": [
    "number_kward(integer = '2309', integer2 = '346')"
   ]
  },
  {
   "cell_type": "code",
   "execution_count": null,
   "id": "12276657-d67d-4b41-b3c3-6764c013084d",
   "metadata": {},
   "outputs": [],
   "source": []
  },
  {
   "cell_type": "code",
   "execution_count": null,
   "id": "84deb538-8efb-4f7a-88fc-19f2e2a9b0c3",
   "metadata": {},
   "outputs": [],
   "source": []
  },
  {
   "cell_type": "code",
   "execution_count": null,
   "id": "206195c2-fb08-48d1-aa03-b863126002be",
   "metadata": {},
   "outputs": [],
   "source": []
  },
  {
   "cell_type": "code",
   "execution_count": null,
   "id": "88a464dd-30fe-4f52-bb01-72bbd3b87897",
   "metadata": {},
   "outputs": [],
   "source": []
  },
  {
   "cell_type": "code",
   "execution_count": null,
   "id": "c439b3d3-b711-4c65-ae74-e2a63a1e36c8",
   "metadata": {},
   "outputs": [],
   "source": []
  },
  {
   "cell_type": "code",
   "execution_count": null,
   "id": "bb9fc641-d443-4efb-8c15-6dcbdae7fbc9",
   "metadata": {},
   "outputs": [],
   "source": []
  },
  {
   "cell_type": "code",
   "execution_count": null,
   "id": "7920d7c3-b7fa-4ad9-aeb8-2b40e3c630c5",
   "metadata": {},
   "outputs": [],
   "source": []
  },
  {
   "cell_type": "code",
   "execution_count": null,
   "id": "77fdf59b-ff2b-478e-be83-b1c589554719",
   "metadata": {},
   "outputs": [],
   "source": []
  },
  {
   "cell_type": "code",
   "execution_count": null,
   "id": "0f525ee3-9f80-426f-bcf9-bfdc6cac7336",
   "metadata": {},
   "outputs": [],
   "source": []
  },
  {
   "cell_type": "code",
   "execution_count": null,
   "id": "9f02edb7-23d1-4c2f-a663-d428638c74d6",
   "metadata": {},
   "outputs": [],
   "source": []
  },
  {
   "cell_type": "code",
   "execution_count": null,
   "id": "84323897-de0a-45fd-8d5f-25ed4a172bc3",
   "metadata": {},
   "outputs": [],
   "source": []
  }
 ],
 "metadata": {
  "kernelspec": {
   "display_name": "Python 3 (ipykernel)",
   "language": "python",
   "name": "python3"
  },
  "language_info": {
   "codemirror_mode": {
    "name": "ipython",
    "version": 3
   },
   "file_extension": ".py",
   "mimetype": "text/x-python",
   "name": "python",
   "nbconvert_exporter": "python",
   "pygments_lexer": "ipython3",
   "version": "3.12.7"
  }
 },
 "nbformat": 4,
 "nbformat_minor": 5
}
