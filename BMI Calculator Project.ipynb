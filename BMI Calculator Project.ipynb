{
 "cells": [
  {
   "cell_type": "markdown",
   "id": "81dc03a6-87b7-4e30-9f75-9434710f4ded",
   "metadata": {},
   "source": [
    "# BMI Calculator based on Mercer Health BMI Index"
   ]
  },
  {
   "cell_type": "code",
   "execution_count": 2,
   "id": "7360d228-a4d0-4401-bcaf-c2ab5f134525",
   "metadata": {},
   "outputs": [
    {
     "name": "stdin",
     "output_type": "stream",
     "text": [
      "Enter your name: Akrama\n",
      "Enter your weight in pounds: 217\n",
      "Enter your height in inches: 72\n"
     ]
    },
    {
     "name": "stdout",
     "output_type": "stream",
     "text": [
      "29.427276234567902\n",
      "Akrama, You are Overweight.\n"
     ]
    }
   ],
   "source": [
    "name = input(\"Enter your name:\")\n",
    "weight = int(input(\"Enter your weight in pounds:\"))\n",
    "height = int(input(\"Enter your height in inches:\"))\n",
    "BMI = (weight * 703) / (height * height)\n",
    "print(BMI)\n",
    "\n",
    "if BMI>0:\n",
    "    if (BMI<18.5):\n",
    "        print (name + \", You are Underweight.\")\n",
    "    elif (BMI<=24.9):\n",
    "        print (name + \", You are normal weight.\")\n",
    "    elif (BMI<29.5):\n",
    "        print (name + \", You are Overweight.\")\n",
    "    elif (BMI<=30):\n",
    "        print (name + \", You are Obese.\")\n",
    "    elif (BMI<34.9):\n",
    "        print (name + \", You are Obese.\")\n",
    "    elif (BMI<=35):\n",
    "        print (name + \", You are Morbidly Obese.\")\n",
    "    elif (BMI<39.9):\n",
    "        print (name + \", You are Morbidly Obese.\")\n",
    "else:\n",
    "    print(\"Enter Valid Inputs\")"
   ]
  },
  {
   "cell_type": "markdown",
   "id": "0e1e5f94-3f68-4eb9-8d0e-5dd67a9ab854",
   "metadata": {},
   "source": [
    "# Statements"
   ]
  },
  {
   "cell_type": "code",
   "execution_count": 4,
   "id": "6117a131-5b78-43f5-b40b-a23c20ec3c43",
   "metadata": {},
   "outputs": [
    {
     "name": "stdout",
     "output_type": "stream",
     "text": [
      "Akrama, You are Overweight.\n"
     ]
    }
   ],
   "source": [
    "if BMI>0:\n",
    "    if (BMI<18.5):\n",
    "        print (name + \", You are Underweight.\")\n",
    "    elif (BMI<=24.9):\n",
    "        print (name + \", You are normal weight.\")\n",
    "    elif (BMI<29.5):\n",
    "        print (name + \", You are Overweight.\")\n",
    "    elif (BMI<=30):\n",
    "        print (name + \", You are Obese.\")\n",
    "    elif (BMI<34.9):\n",
    "        print (name + \", You are Obese.\")\n",
    "    elif (BMI<=35):\n",
    "        print (name + \", You are Morbidly Obese.\")\n",
    "    elif (BMI<39.9):\n",
    "        print (name + \", You are Morbidly Obese.\")\n",
    "else:\n",
    "    print(\"Enter Valid Inputs\")"
   ]
  },
  {
   "cell_type": "code",
   "execution_count": null,
   "id": "1db9bd2a-029d-437d-8793-bdefa8840b4d",
   "metadata": {},
   "outputs": [],
   "source": []
  },
  {
   "cell_type": "code",
   "execution_count": null,
   "id": "f77e3148-5308-49b1-9a95-e9446c8dab0f",
   "metadata": {},
   "outputs": [],
   "source": []
  },
  {
   "cell_type": "code",
   "execution_count": null,
   "id": "cbfe4e50-c481-4a93-8f3a-2747fb2c7230",
   "metadata": {},
   "outputs": [],
   "source": []
  },
  {
   "cell_type": "code",
   "execution_count": null,
   "id": "7f1c8612-460f-4e02-873d-f0e53305dd5a",
   "metadata": {},
   "outputs": [],
   "source": []
  },
  {
   "cell_type": "code",
   "execution_count": null,
   "id": "fe59895f-fefb-4afc-9ffc-b754b834af24",
   "metadata": {},
   "outputs": [],
   "source": []
  },
  {
   "cell_type": "code",
   "execution_count": null,
   "id": "28b77979-3381-421b-80e4-1e519af64700",
   "metadata": {},
   "outputs": [],
   "source": []
  },
  {
   "cell_type": "code",
   "execution_count": null,
   "id": "3a622e2a-c976-4f22-8d4d-13bbb21e087c",
   "metadata": {},
   "outputs": [],
   "source": []
  },
  {
   "cell_type": "code",
   "execution_count": null,
   "id": "3236af21-e1fe-4999-8f71-07bba4fc7ea2",
   "metadata": {},
   "outputs": [],
   "source": []
  },
  {
   "cell_type": "code",
   "execution_count": null,
   "id": "8c6829e0-6ea2-4898-ae45-df83f088370f",
   "metadata": {},
   "outputs": [],
   "source": []
  },
  {
   "cell_type": "code",
   "execution_count": null,
   "id": "b4bd837a-aee2-4d28-8824-80b8fa4b85c2",
   "metadata": {},
   "outputs": [],
   "source": []
  },
  {
   "cell_type": "code",
   "execution_count": null,
   "id": "08caf753-1815-412e-8e69-afac82244c7d",
   "metadata": {},
   "outputs": [],
   "source": []
  },
  {
   "cell_type": "code",
   "execution_count": null,
   "id": "e0825358-8de0-4ce6-bbbb-4a9c16e75a18",
   "metadata": {},
   "outputs": [],
   "source": []
  },
  {
   "cell_type": "code",
   "execution_count": null,
   "id": "58f0e6fa-7e80-4e87-8396-0d9c80678bbf",
   "metadata": {},
   "outputs": [],
   "source": []
  },
  {
   "cell_type": "code",
   "execution_count": null,
   "id": "23b9ffbc-55bf-43d3-b82f-0f5b73b4dacf",
   "metadata": {},
   "outputs": [],
   "source": []
  }
 ],
 "metadata": {
  "kernelspec": {
   "display_name": "Python 3 (ipykernel)",
   "language": "python",
   "name": "python3"
  },
  "language_info": {
   "codemirror_mode": {
    "name": "ipython",
    "version": 3
   },
   "file_extension": ".py",
   "mimetype": "text/x-python",
   "name": "python",
   "nbconvert_exporter": "python",
   "pygments_lexer": "ipython3",
   "version": "3.12.7"
  }
 },
 "nbformat": 4,
 "nbformat_minor": 5
}
