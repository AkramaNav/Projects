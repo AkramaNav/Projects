{
 "cells": [
  {
   "cell_type": "markdown",
   "id": "7bde50be-bf82-43cf-a89d-bec1b0827c3d",
   "metadata": {},
   "source": [
    "# Import Libraries"
   ]
  },
  {
   "cell_type": "code",
   "execution_count": 1,
   "id": "2a4cb63e-7574-4ea9-bab7-eb5766046773",
   "metadata": {},
   "outputs": [],
   "source": [
    "from bs4 import BeautifulSoup\n",
    "import requests\n",
    "import time\n",
    "import datetime\n",
    "\n",
    "import smtplib"
   ]
  },
  {
   "cell_type": "code",
   "execution_count": 2,
   "id": "2489d876-8b9a-47a0-b74d-94497c7994fa",
   "metadata": {
    "scrolled": true
   },
   "outputs": [
    {
     "name": "stdout",
     "output_type": "stream",
     "text": [
      "\n",
      "             ASUS TUF Gaming NVIDIA GeForce RTX™ 4080 Super OC Edition Gaming Graphics Card (PCIe 4.0, 16GB GDDR6X, HDMI 2.1a, DisplayPort 1.4a)\n",
      "            \n",
      "\n",
      "\n",
      "\n",
      "\n",
      "                 $1,469.99\n",
      "                \n",
      "\n",
      "\n",
      "\n",
      "\n",
      "\n",
      "                   $\n",
      "                  \n",
      "\n",
      "                   1,469\n",
      "                   \n",
      "                    .\n",
      "                   \n",
      "\n",
      "\n",
      "                   99\n",
      "                  \n",
      "\n",
      "\n",
      "\n",
      "\n",
      "\n",
      "\n",
      "\n",
      "\n",
      "\n",
      "\n",
      "\n",
      "\n",
      "\n",
      "\n"
     ]
    }
   ],
   "source": [
    "# Connect to website\n",
    "\n",
    "URL = 'https://www.amazon.ca/Gaming-NVIDIA-GeForce-Graphics-DisplayPort/dp/B0CQPZTRL3?sr=8-1&th=1'\n",
    "\n",
    "headers = {\"User-Agent\": \"Mozilla/5.0 (Windows NT 10.0; Win64; x64) AppleWebKit/537.36 (KHTML, like Gecko) Chrome/131.0.0.0 Safari/537.36\",\"Accept-Encoding\": \"gzip, deflate\", \"Accept\":\"text/html,application/xhtml+xml,application/xml;q=0.9,*/*;q=0.8\", \"DNT\":\"1\",\"Connection\":\"close\", \"Upgrade-Insecure-Requests\":\"1\"}\n",
    "\n",
    "page = requests.get(URL, headers = headers)\n",
    "\n",
    "soup1 = BeautifulSoup(page.content, 'html.parser')\n",
    "\n",
    "soup2 = BeautifulSoup(soup1.prettify(), 'html.parser')\n",
    "\n",
    "title = soup2.find(id = 'productTitle').get_text()\n",
    "\n",
    "price = soup2.find(id = 'corePriceDisplay_desktop_feature_div').get_text()\n",
    "\n",
    "print(title)\n",
    "print(price)\n"
   ]
  },
  {
   "cell_type": "code",
   "execution_count": 5,
   "id": "3bcae374-15a0-4fcb-b7ee-4f39a5e48b0d",
   "metadata": {
    "scrolled": true
   },
   "outputs": [
    {
     "name": "stdout",
     "output_type": "stream",
     "text": [
      "ASUS TUF Gaming NVIDIA GeForce RTX™ 4080 Super OC Edition Gaming Graphics Card (PCIe 4.0, 16GB GDDR6X, HDMI 2.1a, DisplayPort 1.4a)\n",
      "$1,469.99\n"
     ]
    }
   ],
   "source": [
    "price = price.strip()[0:9]\n",
    "title = title.strip()\n",
    "print(title)\n",
    "print(price)"
   ]
  },
  {
   "cell_type": "code",
   "execution_count": 7,
   "id": "ced0bfe5-0340-4863-a8ca-22e78540dd74",
   "metadata": {},
   "outputs": [
    {
     "name": "stdout",
     "output_type": "stream",
     "text": [
      "2024-11-20\n"
     ]
    }
   ],
   "source": [
    "import datetime\n",
    "\n",
    "today = datetime.date.today()\n",
    "\n",
    "print(today)"
   ]
  },
  {
   "cell_type": "code",
   "execution_count": 9,
   "id": "5a0aec95-4373-465a-8e68-57a5ffc9fb90",
   "metadata": {},
   "outputs": [],
   "source": [
    "import csv\n",
    "\n",
    "header = ['Product' , 'Price', 'Date']\n",
    "data = [title, price, today]\n",
    "\n",
    "with open('Amazon Web Scraping Data.csv', 'w', newline = '', encoding = 'UTF8') as f:\n",
    "    writer = csv.writer(f)\n",
    "    writer.writerow(header)\n",
    "    writer.writerow(data)\n"
   ]
  },
  {
   "cell_type": "code",
   "execution_count": 11,
   "id": "c18b909d-a900-4ff0-bec5-f2fad6f6903a",
   "metadata": {},
   "outputs": [
    {
     "name": "stdout",
     "output_type": "stream",
     "text": [
      "                                             Product      Price        Date\n",
      "0  ASUS TUF Gaming NVIDIA GeForce RTX™ 4080 Super...  $1,469.99  2024-11-20\n"
     ]
    }
   ],
   "source": [
    "import pandas as pd\n",
    "\n",
    "df = pd.read_csv(r'C:\\Users\\Akrama\\Akramas Folder\\Amazon Web Scraping Data.csv')\n",
    "\n",
    "print(df)"
   ]
  },
  {
   "cell_type": "code",
   "execution_count": 17,
   "id": "81e099b2-dba2-4eef-9598-353d0da732ab",
   "metadata": {},
   "outputs": [],
   "source": [
    "# Now Appending data to the CSV\n",
    "\n",
    "with open('Amazon Web Scraping Data.csv', 'a+', newline = '', encoding = 'UTF8') as f:\n",
    "    writer = csv.writer(f)\n",
    "    writer.writerow(data)"
   ]
  },
  {
   "cell_type": "code",
   "execution_count": 19,
   "id": "8a06a2ff-a6e8-4895-aa55-fb156236af6c",
   "metadata": {},
   "outputs": [],
   "source": [
    "\n",
    "def check_price():\n",
    "    URL = 'https://www.amazon.ca/Gaming-NVIDIA-GeForce-Graphics-DisplayPort/dp/B0CQPZTRL3?sr=8-1&th=1'\n",
    "    \n",
    "    headers = {\"User-Agent\": \"Mozilla/5.0 (Windows NT 10.0; Win64; x64) AppleWebKit/537.36 (KHTML, like Gecko) Chrome/131.0.0.0 Safari/537.36\",\"Accept-Encoding\": \"gzip, deflate\", \"Accept\":\"text/html,application/xhtml+xml,application/xml;q=0.9,*/*;q=0.8\", \"DNT\":\"1\",\"Connection\":\"close\", \"Upgrade-Insecure-Requests\":\"1\"}\n",
    "\n",
    "    page = requests.get(URL, headers = headers)\n",
    "\n",
    "    soup1 = BeautifulSoup(page.content, 'html.parser')\n",
    "\n",
    "    soup2 = BeautifulSoup(soup1.prettify(), 'html.parser')\n",
    "\n",
    "    title = soup2.find(id = 'productTitle').get_text()\n",
    "\n",
    "    price = soup2.find(id = 'corePriceDisplay_desktop_feature_div').get_text()\n",
    "\n",
    "    price = price.strip()[0:9]\n",
    "    title = title.strip()\n",
    "\n",
    "    import datetime\n",
    "\n",
    "    today = datetime.date.today()\n",
    "    \n",
    "    import csv\n",
    "\n",
    "    header = ['Product' , 'Price', 'Date']\n",
    "    data = [title, price, today]\n",
    "\n",
    "    with open('Amazon Web Scraping Data.csv', 'a+', newline = '', encoding = 'UTF8') as f:\n",
    "        writer = csv.writer(f)\n",
    "        writer.writerow(data)\n"
   ]
  },
  {
   "cell_type": "code",
   "execution_count": null,
   "id": "f595d4f9-54c8-4a32-9213-fb5958864c5f",
   "metadata": {},
   "outputs": [],
   "source": [
    "while(True):\n",
    "    check_price()\n",
    "    time.sleep(86400)"
   ]
  },
  {
   "cell_type": "code",
   "execution_count": 21,
   "id": "e6e32293-7c0e-4ea2-8e96-7c39b6aa1c5e",
   "metadata": {},
   "outputs": [
    {
     "name": "stdout",
     "output_type": "stream",
     "text": [
      "                                             Product      Price        Date\n",
      "0  ASUS TUF Gaming NVIDIA GeForce RTX™ 4080 Super...  $1,469.99  2024-11-20\n",
      "1  ASUS TUF Gaming NVIDIA GeForce RTX™ 4080 Super...  $1,469.99  2024-11-20\n",
      "2  ASUS TUF Gaming NVIDIA GeForce RTX™ 4080 Super...  $1,469.99  2024-11-20\n",
      "3  ASUS TUF Gaming NVIDIA GeForce RTX™ 4080 Super...  $1,469.99  2024-11-20\n"
     ]
    }
   ],
   "source": [
    "import pandas as pd\n",
    "\n",
    "df = pd.read_csv(r'C:\\Users\\Akrama\\Akramas Folder\\Amazon Web Scraping Data.csv')\n",
    "\n",
    "print(df)"
   ]
  },
  {
   "cell_type": "code",
   "execution_count": null,
   "id": "56f07684-f5a3-4912-8b4d-ad56d43016f0",
   "metadata": {},
   "outputs": [],
   "source": []
  },
  {
   "cell_type": "code",
   "execution_count": null,
   "id": "0c7964e0-7b22-4667-90ed-ec976360a9bf",
   "metadata": {},
   "outputs": [],
   "source": []
  },
  {
   "cell_type": "code",
   "execution_count": null,
   "id": "c5bbe3dd-76e2-40c2-b1cc-91e8c019b686",
   "metadata": {},
   "outputs": [],
   "source": []
  },
  {
   "cell_type": "code",
   "execution_count": null,
   "id": "d63da711-5926-4715-9b66-9742d4a99300",
   "metadata": {},
   "outputs": [],
   "source": []
  },
  {
   "cell_type": "code",
   "execution_count": null,
   "id": "512695fd-3caf-4b00-81fa-caf059d40b59",
   "metadata": {},
   "outputs": [],
   "source": []
  },
  {
   "cell_type": "code",
   "execution_count": null,
   "id": "aa709b3e-1e2e-4303-845e-d16c495513e3",
   "metadata": {},
   "outputs": [],
   "source": []
  },
  {
   "cell_type": "code",
   "execution_count": null,
   "id": "2c7a4e55-85fe-499d-a100-23ac56650873",
   "metadata": {},
   "outputs": [],
   "source": []
  },
  {
   "cell_type": "code",
   "execution_count": null,
   "id": "fd9ba7a0-6e52-48dd-b62e-ad46aa4e6344",
   "metadata": {},
   "outputs": [],
   "source": []
  },
  {
   "cell_type": "code",
   "execution_count": null,
   "id": "1c1d32ab-3224-4ccc-badf-9757d3c26819",
   "metadata": {},
   "outputs": [],
   "source": []
  },
  {
   "cell_type": "code",
   "execution_count": null,
   "id": "0415a0da-02a0-4f95-945f-78152cd48779",
   "metadata": {},
   "outputs": [],
   "source": []
  },
  {
   "cell_type": "code",
   "execution_count": null,
   "id": "a4799319-c10c-42c8-914a-8c9ee9197827",
   "metadata": {},
   "outputs": [],
   "source": []
  },
  {
   "cell_type": "code",
   "execution_count": null,
   "id": "8c6bdb8b-2374-41bb-808c-8184f9d5d01e",
   "metadata": {},
   "outputs": [],
   "source": []
  },
  {
   "cell_type": "code",
   "execution_count": null,
   "id": "a6521a7b-2319-40e7-9289-499c29e411eb",
   "metadata": {},
   "outputs": [],
   "source": []
  },
  {
   "cell_type": "code",
   "execution_count": null,
   "id": "5e772d4d-b264-4ec5-80a6-dfbc4e22b914",
   "metadata": {},
   "outputs": [],
   "source": []
  },
  {
   "cell_type": "code",
   "execution_count": null,
   "id": "0fcbe8f5-9fc4-4cc5-94ca-7f76ee017958",
   "metadata": {},
   "outputs": [],
   "source": []
  },
  {
   "cell_type": "code",
   "execution_count": null,
   "id": "80ae3e9b-fe09-461e-9d2a-ce64fd7846cf",
   "metadata": {},
   "outputs": [],
   "source": []
  },
  {
   "cell_type": "code",
   "execution_count": null,
   "id": "fa29b586-48f5-4300-932f-375cbc01a87e",
   "metadata": {},
   "outputs": [],
   "source": []
  },
  {
   "cell_type": "code",
   "execution_count": null,
   "id": "1738aa85-83f3-49a4-8d92-c465c971a27c",
   "metadata": {},
   "outputs": [],
   "source": []
  },
  {
   "cell_type": "code",
   "execution_count": null,
   "id": "982fa51a-642a-484b-9b99-671a8ac6b2c7",
   "metadata": {},
   "outputs": [],
   "source": []
  },
  {
   "cell_type": "code",
   "execution_count": null,
   "id": "494c2679-b165-40bd-8792-d077601d1e39",
   "metadata": {},
   "outputs": [],
   "source": []
  },
  {
   "cell_type": "code",
   "execution_count": null,
   "id": "2c4b35d1-5cd2-49ba-9cca-6f80b0bc307a",
   "metadata": {},
   "outputs": [],
   "source": []
  }
 ],
 "metadata": {
  "kernelspec": {
   "display_name": "Python 3 (ipykernel)",
   "language": "python",
   "name": "python3"
  },
  "language_info": {
   "codemirror_mode": {
    "name": "ipython",
    "version": 3
   },
   "file_extension": ".py",
   "mimetype": "text/x-python",
   "name": "python",
   "nbconvert_exporter": "python",
   "pygments_lexer": "ipython3",
   "version": "3.12.7"
  }
 },
 "nbformat": 4,
 "nbformat_minor": 5
}
