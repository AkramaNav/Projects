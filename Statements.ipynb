{
 "cells": [
  {
   "cell_type": "code",
   "execution_count": 19,
   "id": "bcaf6999-aea9-4bdc-adef-ed485e05393e",
   "metadata": {},
   "outputs": [],
   "source": [
    "# IF - Elif - Else Statements"
   ]
  },
  {
   "cell_type": "code",
   "execution_count": 23,
   "id": "d37f0fb8-765b-4c12-a8dd-7c7eaf3d847d",
   "metadata": {},
   "outputs": [
    {
     "name": "stdout",
     "output_type": "stream",
     "text": [
      "it works\n"
     ]
    }
   ],
   "source": [
    "if 25 > 10: \n",
    "    print('it works')"
   ]
  },
  {
   "cell_type": "code",
   "execution_count": 31,
   "id": "640624f5-feb8-4ed1-864e-21a7af998ba9",
   "metadata": {},
   "outputs": [
    {
     "name": "stdout",
     "output_type": "stream",
     "text": [
      "it did not work...\n"
     ]
    }
   ],
   "source": [
    "if 25 < 10: \n",
    "    print('it works')\n",
    "else:\n",
    "    print('it did not work...')"
   ]
  },
  {
   "cell_type": "code",
   "execution_count": 51,
   "id": "7f1c6d1b-1952-4ec4-8cf9-ca48998cf379",
   "metadata": {},
   "outputs": [
    {
     "name": "stdout",
     "output_type": "stream",
     "text": [
      "it works\n"
     ]
    }
   ],
   "source": [
    "if (25 < 10) or (1 < 3): \n",
    "    print('it works')\n",
    "elif 25 < 20:\n",
    "    print('elif 2 worked')\n",
    "elif 25 < 21:\n",
    "    print('elif 3 worked')\n",
    "elif 25 < 40:\n",
    "    print('elif 4 worked')\n",
    "else:\n",
    "    print('it did not work...')"
   ]
  },
  {
   "cell_type": "code",
   "execution_count": 53,
   "id": "5bd62995-f717-42e4-ae9f-f4211266c8ee",
   "metadata": {},
   "outputs": [
    {
     "name": "stdout",
     "output_type": "stream",
     "text": [
      "It did not work\n"
     ]
    }
   ],
   "source": [
    "print('It Works!') if 10 > 30 else print ('It did not work')"
   ]
  },
  {
   "cell_type": "code",
   "execution_count": 57,
   "id": "00788750-3a1c-489b-84f8-ad369ea27b53",
   "metadata": {},
   "outputs": [
    {
     "name": "stdout",
     "output_type": "stream",
     "text": [
      "it works\n",
      "This nest is working\n"
     ]
    }
   ],
   "source": [
    "if (25 < 10) or (1 < 3): \n",
    "    print('it works')\n",
    "    if 10 > 5:\n",
    "        print('This nest is working')\n",
    "elif 25 < 20:\n",
    "    print('elif 2 worked')\n",
    "elif 25 < 21:\n",
    "    print('elif 3 worked')\n",
    "elif 25 < 40:\n",
    "    print('elif 4 worked')\n",
    "else:\n",
    "    print('it did not work...')"
   ]
  },
  {
   "cell_type": "code",
   "execution_count": null,
   "id": "b1d30ef3-a60c-4a20-826e-054219d25494",
   "metadata": {},
   "outputs": [],
   "source": []
  },
  {
   "cell_type": "code",
   "execution_count": null,
   "id": "e84b0dcf-2407-42c1-a9e7-8f28151f9f6a",
   "metadata": {},
   "outputs": [],
   "source": []
  },
  {
   "cell_type": "code",
   "execution_count": null,
   "id": "838908cf-f2ae-4b5d-90fe-e06bb34208bc",
   "metadata": {},
   "outputs": [],
   "source": []
  },
  {
   "cell_type": "code",
   "execution_count": null,
   "id": "f4326e46-fbfc-47f3-ae50-bcf4f03a3320",
   "metadata": {},
   "outputs": [],
   "source": []
  },
  {
   "cell_type": "code",
   "execution_count": null,
   "id": "bf1493d8-5cb9-489b-ab1d-5e988ada5313",
   "metadata": {},
   "outputs": [],
   "source": []
  },
  {
   "cell_type": "code",
   "execution_count": null,
   "id": "75d41f96-7324-41b2-974c-1f4698581453",
   "metadata": {},
   "outputs": [],
   "source": []
  },
  {
   "cell_type": "code",
   "execution_count": null,
   "id": "52b7803d-6b11-4664-b415-bbc3767308e7",
   "metadata": {},
   "outputs": [],
   "source": []
  },
  {
   "cell_type": "code",
   "execution_count": null,
   "id": "13ccff99-23c1-44ba-b9ec-c3ff448d9d94",
   "metadata": {},
   "outputs": [],
   "source": []
  },
  {
   "cell_type": "code",
   "execution_count": null,
   "id": "213da98a-f8c1-4c84-8eba-1926d6884beb",
   "metadata": {},
   "outputs": [],
   "source": []
  },
  {
   "cell_type": "code",
   "execution_count": null,
   "id": "af4d5066-e720-487b-b580-7cf7d954fcf8",
   "metadata": {},
   "outputs": [],
   "source": []
  },
  {
   "cell_type": "code",
   "execution_count": null,
   "id": "5441846c-6b32-471d-9962-c79da443cdb1",
   "metadata": {},
   "outputs": [],
   "source": []
  }
 ],
 "metadata": {
  "kernelspec": {
   "display_name": "Python 3 (ipykernel)",
   "language": "python",
   "name": "python3"
  },
  "language_info": {
   "codemirror_mode": {
    "name": "ipython",
    "version": 3
   },
   "file_extension": ".py",
   "mimetype": "text/x-python",
   "name": "python",
   "nbconvert_exporter": "python",
   "pygments_lexer": "ipython3",
   "version": "3.12.7"
  }
 },
 "nbformat": 4,
 "nbformat_minor": 5
}
